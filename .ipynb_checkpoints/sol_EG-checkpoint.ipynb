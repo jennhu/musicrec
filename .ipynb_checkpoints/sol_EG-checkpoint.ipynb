{
 "cells": [
  {
   "cell_type": "code",
   "execution_count": 1,
   "metadata": {
    "collapsed": true
   },
   "outputs": [],
   "source": [
    "# Feature extraction\n",
    "import musicbrainzngs\n",
    "import ast\n",
    "# Data processing\n",
    "import numpy as np\n",
    "import csv\n",
    "import pandas as pd\n",
    "# import matplotlib.pyplot as plt\n",
    "\n",
    "# Models\n",
    "import sklearn.preprocessing as Pre\n",
    "from sklearn.cluster import KMeans\n",
    "# from sklearn.linear_model import LinearRegression\n",
    "# from sklearn.ensemble import RandomForestRegressor\n",
    "# from sklearn.ensemble import BaggingRegressor\n",
    "\n",
    "# PCA and k-fold validation\n",
    "# from sklearn.decomposition import PCA\n",
    "from sklearn.model_selection import KFold"
   ]
  },
  {
   "cell_type": "markdown",
   "metadata": {},
   "source": [
    "# Data Processing"
   ]
  },
  {
   "cell_type": "code",
   "execution_count": 2,
   "metadata": {
    "collapsed": true
   },
   "outputs": [],
   "source": [
    "fulltrain_file = '../musicrec-data/train.csv'\n",
    "ktrain_file = '../musicrec-data/ktrain.csv'\n",
    "kvalid_file = '../musicrec-data/kval.csv'\n",
    "\n",
    "# change this to reflect different solutions\n",
    "soln_file  = 'user_genres_median.csv'\n",
    "\n",
    "# for full data, non kfold\n",
    "train_file = fulltrain_file\n",
    "test_file  = '../musicrec-data/test.csv'\n",
    "\n",
    "# for kfold validation\n",
    "# train_file = ktrain_file\n",
    "# test_file = kvalid_file\n",
    "# soln_file = 'disregard.csv'"
   ]
  },
  {
   "cell_type": "code",
   "execution_count": 5,
   "metadata": {
    "collapsed": false
   },
   "outputs": [],
   "source": [
    "# get length of fulltrain\n",
    "with open(fulltrain_file, 'r') as fulltrain_fh:\n",
    "    fulltrain_csv = csv.reader(fulltrain_fh, delimiter=',', quotechar='\"')\n",
    "    next(fulltrain_csv, None)\n",
    "    \n",
    "    data = list(fulltrain_csv)\n",
    "    rowsoftrain = len(data)"
   ]
  },
  {
   "cell_type": "code",
   "execution_count": 10,
   "metadata": {
    "collapsed": false
   },
   "outputs": [],
   "source": [
    "# Separate fulltrain_file into training set and validation set (for kfold)\n",
    "c = 0\n",
    "with open(fulltrain_file, 'r') as fulltrain_fh:\n",
    "    fulltrain_csv = csv.reader(fulltrain_fh, delimiter=',', quotechar='\"')\n",
    "    next(fulltrain_csv, None)\n",
    "\n",
    "    with open(ktrain_file, 'w') as ktrain_fh:\n",
    "        ktrain_csv = csv.writer(ktrain_fh,\n",
    "                              delimiter=',',\n",
    "                              quotechar='\"',\n",
    "                              quoting=csv.QUOTE_MINIMAL)\n",
    "\n",
    "        with open(kvalid_file, 'w') as kvalid_fh:\n",
    "            kvalid_csv = csv.writer(kvalid_fh,\n",
    "                                   delimiter=',',\n",
    "                                   quotechar='\"',\n",
    "                                   quoting=csv.QUOTE_MINIMAL)\n",
    "            \n",
    "            for row in fulltrain_csv:\n",
    "                if (c < (rowsoftrain * 4 / 5)):\n",
    "                    ktrain_csv.writerow(row)\n",
    "                else:\n",
    "                    kvalid_csv.writerow(row)\n",
    "                c += 1"
   ]
  },
  {
   "cell_type": "code",
   "execution_count": 3,
   "metadata": {
    "collapsed": false
   },
   "outputs": [],
   "source": [
    "# Load the training data.\n",
    "train_data = {}\n",
    "Y_actual = {} # for testing at end\n",
    "id = 1\n",
    "with open(train_file, 'r') as train_fh:\n",
    "    train_csv = csv.reader(train_fh, delimiter=',', quotechar='\"')\n",
    "    next(train_csv, None)\n",
    "    for row in train_csv:\n",
    "        if (row):\n",
    "            user   = row[0]\n",
    "            artist = row[1]\n",
    "            plays  = int(row[2])\n",
    "            Y_actual[id] = plays\n",
    "            id += 1\n",
    "            if not user in train_data:\n",
    "                train_data[user] = {}\n",
    "            train_data[user][artist] = plays"
   ]
  },
  {
   "cell_type": "code",
   "execution_count": 5,
   "metadata": {
    "collapsed": true
   },
   "outputs": [],
   "source": [
    "# Load the test data. Not necessary rn\n",
    "# test_data = {}\n",
    "# with open(test_file, 'r') as test_fh:\n",
    "#     test_csv = csv.reader(test_fh, delimiter=',', quotechar='\"')\n",
    "#     next(test_csv, None)\n",
    "#     for row in test_csv:\n",
    "#         user   = row[1]\n",
    "#         artist = row[2]\n",
    "#         if not user in test_data:\n",
    "#             test_data[user] = {}\n",
    "#         test_data[user][artist] = 0"
   ]
  },
  {
   "cell_type": "markdown",
   "metadata": {},
   "source": [
    "# Global Median"
   ]
  },
  {
   "cell_type": "code",
   "execution_count": 45,
   "metadata": {
    "collapsed": false
   },
   "outputs": [
    {
     "name": "stdout",
     "output_type": "stream",
     "text": [
      "global median: 118.0\n"
     ]
    }
   ],
   "source": [
    "# Predict via the median number of plays.\n",
    "# Compute the global median.\n",
    "plays_array = []\n",
    "for user, user_data in train_data.items():\n",
    "    for artist, plays in user_data.items():\n",
    "        plays_array.append(plays)\n",
    "global_median = np.median(np.array(plays_array))\n",
    "print(\"global median:\", global_median)"
   ]
  },
  {
   "cell_type": "code",
   "execution_count": 46,
   "metadata": {
    "collapsed": true
   },
   "outputs": [],
   "source": [
    "# Write out test solutions.\n",
    "Y_hat = {} # add this Y_hat line_id stuff to every solution\n",
    "line_id = 1\n",
    "with open(test_file, 'r') as test_fh:\n",
    "    test_csv = csv.reader(test_fh, delimiter=',', quotechar='\"')\n",
    "    next(test_csv, None)\n",
    "\n",
    "    with open(soln_file, 'w') as soln_fh:\n",
    "        soln_csv = csv.writer(soln_fh,\n",
    "                              delimiter=',',\n",
    "                              quotechar='\"',\n",
    "                              quoting=csv.QUOTE_MINIMAL)\n",
    "        soln_csv.writerow(['Id', 'plays'])\n",
    "\n",
    "        for row in test_csv:\n",
    "            id     = row[0]\n",
    "            user   = row[1]\n",
    "            artist = row[2]\n",
    "\n",
    "            soln_csv.writerow([id, global_median])\n",
    "            Y_hat[line_id] = global_median\n",
    "            line_id += 1"
   ]
  },
  {
   "cell_type": "markdown",
   "metadata": {},
   "source": [
    "# User Medians"
   ]
  },
  {
   "cell_type": "code",
   "execution_count": 4,
   "metadata": {
    "collapsed": false
   },
   "outputs": [],
   "source": [
    "# Predict via the user-specific median.\n",
    "# If the user has no data, use the global median.\n",
    "plays_array  = []\n",
    "user_medians = {}\n",
    "for user, user_data in train_data.items():\n",
    "    user_plays = []\n",
    "    for artist, plays in user_data.items():\n",
    "        plays_array.append(plays)\n",
    "        user_plays.append(plays)\n",
    "\n",
    "    user_medians[user] = np.median(np.array(user_plays))\n",
    "global_median = np.median(np.array(plays_array))"
   ]
  },
  {
   "cell_type": "code",
   "execution_count": 9,
   "metadata": {
    "collapsed": false
   },
   "outputs": [
    {
     "name": "stdout",
     "output_type": "stream",
     "text": [
      "710183e9a50e4bd8ad61b24ac4b287f03d51b322\n"
     ]
    },
    {
     "ename": "AssertionError",
     "evalue": "",
     "output_type": "error",
     "traceback": [
      "\u001b[1;31m---------------------------------------------------------------------------\u001b[0m",
      "\u001b[1;31mAssertionError\u001b[0m                            Traceback (most recent call last)",
      "\u001b[1;32m<ipython-input-9-5bc5e26f3d34>\u001b[0m in \u001b[0;36m<module>\u001b[1;34m()\u001b[0m\n\u001b[0;32m      5\u001b[0m     \u001b[1;32mif\u001b[0m \u001b[1;33m(\u001b[0m\u001b[0mv\u001b[0m \u001b[1;33m>\u001b[0m \u001b[1;36m10000\u001b[0m\u001b[1;33m)\u001b[0m\u001b[1;33m:\u001b[0m\u001b[1;33m\u001b[0m\u001b[0m\n\u001b[0;32m      6\u001b[0m         \u001b[0mprint\u001b[0m\u001b[1;33m(\u001b[0m\u001b[0mk\u001b[0m\u001b[1;33m)\u001b[0m\u001b[1;33m\u001b[0m\u001b[0m\n\u001b[1;32m----> 7\u001b[1;33m         \u001b[1;32massert\u001b[0m\u001b[1;33m(\u001b[0m\u001b[1;36m0\u001b[0m \u001b[1;33m==\u001b[0m \u001b[1;36m1\u001b[0m\u001b[1;33m)\u001b[0m\u001b[1;33m\u001b[0m\u001b[0m\n\u001b[0m\u001b[0;32m      8\u001b[0m \u001b[0mmedians_array\u001b[0m \u001b[1;33m=\u001b[0m \u001b[0mnp\u001b[0m\u001b[1;33m.\u001b[0m\u001b[0marray\u001b[0m\u001b[1;33m(\u001b[0m\u001b[0mmedians_list\u001b[0m\u001b[1;33m)\u001b[0m\u001b[1;33m\u001b[0m\u001b[0m\n",
      "\u001b[1;31mAssertionError\u001b[0m: "
     ]
    }
   ],
   "source": [
    "c = 0\n",
    "medians_list = []\n",
    "for k, v in user_medians.items():\n",
    "    medians_list.append(v)\n",
    "    if (v > 10000):\n",
    "        print(k)\n",
    "        assert(0 == 1)\n",
    "medians_array = np.array(medians_list)\n"
   ]
  },
  {
   "cell_type": "code",
   "execution_count": 11,
   "metadata": {
    "collapsed": false
   },
   "outputs": [
    {
     "data": {
      "text/plain": [
       "{'00a9f935-ba93-4fc8-a33a-993abe9c936b': 25479,\n",
       " '20953548-6d06-4428-99a9-c284bfaa5514': 11683,\n",
       " '2ecbc483-dee4-442f-8ce7-f3ab31c73f87': 16080,\n",
       " '541f16f5-ad7a-428e-af89-9fa1b16d3c9c': 4569,\n",
       " '5dedf5cf-a598-4408-9556-3bf3f149f3ba': 5708,\n",
       " '7d093650-89be-4108-842b-ba7f5367504b': 11359,\n",
       " '83d91898-7763-47d7-b03b-b92132375c47': 5180,\n",
       " '85af0709-95db-4fbc-801a-120e9f4766d0': 16155,\n",
       " '881c5eec-ab10-4523-98cc-0abf43900065': 2206,\n",
       " '8bf9b24b-e802-4ab6-b342-b348e20b58d4': 18163,\n",
       " '8bfac288-ccc5-448d-9573-c33ea2aa5c30': 13772,\n",
       " 'bbd80354-597e-4d53-94e4-92b3a7cb8f2c': 2652,\n",
       " 'd0400f72-c2df-4cb3-81bd-72fa19aeaef8': 2310,\n",
       " 'ef58d4c9-0d40-42ba-bfab-9186c1483edd': 11113,\n",
       " 'f57e14e4-b030-467c-b202-539453f504ec': 21627}"
      ]
     },
     "execution_count": 11,
     "metadata": {},
     "output_type": "execute_result"
    }
   ],
   "source": [
    "train_data['710183e9a50e4bd8ad61b24ac4b287f03d51b322']"
   ]
  },
  {
   "cell_type": "code",
   "execution_count": null,
   "metadata": {
    "collapsed": true
   },
   "outputs": [],
   "source": [
    "import matplotlib.pyplot as plt\n",
    "plt.hist(medians_array)\n",
    "plt.show()\n",
    "# conclusion- idk actually"
   ]
  },
  {
   "cell_type": "code",
   "execution_count": 75,
   "metadata": {
    "collapsed": false
   },
   "outputs": [],
   "source": [
    "# Write out test solutions.\n",
    "Y_hat = {} # add this Y_hat line_id stuff to every solution\n",
    "line_id = 1\n",
    "with open(test_file, 'r') as test_fh:\n",
    "    test_csv = csv.reader(test_fh, delimiter=',', quotechar='\"')\n",
    "    next(test_csv, None)\n",
    "\n",
    "    with open(soln_file, 'w') as soln_fh:\n",
    "        soln_csv = csv.writer(soln_fh,\n",
    "                              delimiter=',',\n",
    "                              quotechar='\"',\n",
    "                              quoting=csv.QUOTE_MINIMAL)\n",
    "        soln_csv.writerow(['Id', 'plays'])\n",
    "\n",
    "        for row in test_csv:\n",
    "            id     = row[0]\n",
    "            user   = row[1]\n",
    "            artist = row[2]\n",
    "\n",
    "            if user in user_medians:\n",
    "                Y_hat[line_id] = user_medians[user]\n",
    "            else:\n",
    "                print(\"User\", id, \"not in training data.\")\n",
    "                Y_hat[line_id] = global_median\n",
    "            soln_csv.writerow([id, Y_hat[line_id]])\n",
    "            line_id += 1"
   ]
  },
  {
   "cell_type": "markdown",
   "metadata": {},
   "source": [
    "# Sex Medians"
   ]
  },
  {
   "cell_type": "code",
   "execution_count": null,
   "metadata": {
    "collapsed": true
   },
   "outputs": [],
   "source": [
    "user_df = pd.read_csv('musicrec-data/profiles.csv')\n",
    "sex_dict = {row['user']:row['sex'] for (ind, row) in user_df.iterrows()}\n",
    "user_df.head()"
   ]
  },
  {
   "cell_type": "code",
   "execution_count": null,
   "metadata": {
    "collapsed": true
   },
   "outputs": [],
   "source": [
    "# Predict via the sex-specific median\n",
    "# If sex not given, use global median\n",
    "male_plays = []\n",
    "female_plays = []\n",
    "for user, user_data in train_data.items():\n",
    "    try:\n",
    "        sex = sex_dict[user]\n",
    "    except KeyError:\n",
    "        sex = 'u'\n",
    "    for artist, plays in user_data.items():\n",
    "        if sex == 'm':\n",
    "            male_plays.append(plays)\n",
    "        elif sex == 'f':\n",
    "            female_plays.append(plays)\n",
    "male_median = np.median(np.array(male_plays))\n",
    "female_median = np.median(np.array(female_plays))\n",
    "nan_median = np.median(np.array(nan_plays))"
   ]
  },
  {
   "cell_type": "code",
   "execution_count": null,
   "metadata": {
    "collapsed": true
   },
   "outputs": [],
   "source": [
    "# Write out test solutions.\n",
    "Y_hat = {} # add this Y_hat line_id stuff to every solution\n",
    "line_id = 1\n",
    "alpha = 0.5\n",
    "with open(test_file, 'r') as test_fh:\n",
    "    test_csv = csv.reader(test_fh, delimiter=',', quotechar='\"')\n",
    "    next(test_csv, None)\n",
    "\n",
    "    with open(soln_file, 'w') as soln_fh:\n",
    "        soln_csv = csv.writer(soln_fh,\n",
    "                              delimiter=',',\n",
    "                              quotechar='\"',\n",
    "                              quoting=csv.QUOTE_MINIMAL)\n",
    "        soln_csv.writerow(['Id', 'plays'])\n",
    "\n",
    "        for row in test_csv:\n",
    "            id     = row[0]\n",
    "            user   = row[1]\n",
    "            artist = row[2]\n",
    "\n",
    "            try:\n",
    "                sex = sex_dict[user]\n",
    "                if sex == 'm':\n",
    "                    Y_hat[line_id] = (alpha * user_medians[user]) + ((1 - alpha) * male_median)\n",
    "                elif sex == 'f':\n",
    "                    Y_hat[line_id] = (alpha * user_medians[user]) + ((1 - alpha) * female_median)\n",
    "                else:\n",
    "                    Y_hat[line_id] = (alpha * user_medians[user]) + ((1 - alpha) * global_median)\n",
    "            except KeyError:\n",
    "                Y_hat[line_id] = global_median\n",
    "            soln_csv.writerow([id, Y_hat[line_id]])\n",
    "            line_id += 1"
   ]
  },
  {
   "cell_type": "markdown",
   "metadata": {},
   "source": [
    "# User Genre Pairings"
   ]
  },
  {
   "cell_type": "code",
   "execution_count": 9,
   "metadata": {
    "collapsed": false
   },
   "outputs": [],
   "source": [
    "# Predict via the user-genre mean.\n",
    "# If the user-genre pairing hasn't happened before, use the global median.\n",
    "# Read in artist_genre_dict and user_genre_dict from csv's.\n",
    "# Alternatively, one could create them below with Jenn's code\n",
    "agdfile = 'genre_dicts/artist_genre2_dict.csv'\n",
    "artist_genre_dict = {}\n",
    "with open(agdfile, 'r') as agd_fh:\n",
    "    agd_csv = csv.reader(agd_fh, delimiter=',', quotechar='\"')\n",
    "    next(agd_csv, None)\n",
    "    for row in agd_csv:\n",
    "        artist_id = row[0]\n",
    "        artist_genre1 = row[1]\n",
    "        artist_genre2 = row[2]\n",
    "        artist_genre_dict[artist_id] = (artist_genre1, artist_genre2)\n",
    "        # not sure if this correctly turns blank cells into Nones"
   ]
  },
  {
   "cell_type": "code",
   "execution_count": 12,
   "metadata": {
    "collapsed": false
   },
   "outputs": [],
   "source": [
    "ugdfile = '../musicrec-data/user_genre2_dict.csv'\n",
    "user_genre_dict = {}\n",
    "with open(ugdfile, 'r') as ugd_fh:\n",
    "    ugd_csv = csv.reader(ugd_fh, delimiter=',', quotechar='\"')\n",
    "    next(ugd_csv, None)\n",
    "    c = 0\n",
    "    for row in ugd_csv:\n",
    "        user_id = row[0]\n",
    "        user_dict = ast.literal_eval(row[1])\n",
    "        user_genre_dict[user_id] = user_dict"
   ]
  },
  {
   "cell_type": "code",
   "execution_count": 65,
   "metadata": {
    "collapsed": false
   },
   "outputs": [],
   "source": [
    "# Write out test solutions.\n",
    "# Need to run previous block of code to get user_medians and global_median\n",
    "Y_hat = {} # add this Y_hat line_id stuff to every solution\n",
    "line_id = 1\n",
    "alpha = 0.4\n",
    "soln_file = 'topgenres.csv'\n",
    "with open(test_file, 'r') as test_fh:\n",
    "    test_csv = csv.reader(test_fh, delimiter=',', quotechar='\"')\n",
    "    next(test_csv, None)\n",
    "\n",
    "    with open(soln_file, 'w') as soln_fh:\n",
    "        soln_csv = csv.writer(soln_fh,\n",
    "                              delimiter=',',\n",
    "                              quotechar='\"',\n",
    "                              quoting=csv.QUOTE_MINIMAL)\n",
    "        soln_csv.writerow(['Id', 'plays'])\n",
    "\n",
    "        for row in test_csv:\n",
    "            id     = row[0]\n",
    "            user   = row[1]\n",
    "            artist = row[2]\n",
    "            genres = artist_genre_dict[artist]\n",
    "            \n",
    "            if user in user_medians:\n",
    "                no_genre_median = user_medians[user]\n",
    "            else:\n",
    "                no_genre_median = global_median\n",
    "                \n",
    "            user_genre_avg_plays = 0\n",
    "            ug_denom = 0\n",
    "            # Sanity check if statements\n",
    "            for genre in genres:\n",
    "                if (genre in user_genre_dict[user]):\n",
    "                    user_genre_avg_plays += user_genre_dict[user][genre][0]\n",
    "                    ug_denom += user_genre_dict[user][genre][1]\n",
    "#             if (genre1 and genre1 in user_genre_dict[user]):\n",
    "#                 user_genre_avg_plays += user_genre_dict[user][genre1][0] / user_genre_dict[user][genre1][1]\n",
    "#             if (genre2 and genre2 in user_genre_dict[user]):\n",
    "#                 user_genre_avg_plays += user_genre_dict[user][genre2][0] / user_genre_dict[user][genre2][1]\n",
    "#             if (genre1 and genre2 and genre1 in user_genre_dict[user] and genre2 in user_genre_dict[user]):\n",
    "#                 user_genre_avg_plays /= 2\n",
    "\n",
    "            if (user_genre_avg_plays):\n",
    "                Y_hat[line_id] = alpha * (user_genre_avg_plays / ug_denom) + (1 - alpha) * no_genre_median\n",
    "            else:\n",
    "                Y_hat[line_id] = no_genre_median\n",
    "            \n",
    "            soln_csv.writerow([id, Y_hat[line_id]])\n",
    "            line_id += 1"
   ]
  },
  {
   "cell_type": "code",
   "execution_count": 66,
   "metadata": {
    "collapsed": false,
    "scrolled": true
   },
   "outputs": [
    {
     "data": {
      "text/plain": [
       "4154805"
      ]
     },
     "execution_count": 66,
     "metadata": {},
     "output_type": "execute_result"
    }
   ],
   "source": [
    "line_id"
   ]
  },
  {
   "cell_type": "markdown",
   "metadata": {},
   "source": [
    "# Feature Extraction"
   ]
  },
  {
   "cell_type": "code",
   "execution_count": 5,
   "metadata": {
    "collapsed": false,
    "scrolled": true
   },
   "outputs": [],
   "source": [
    "# must set user agent before any requests are made\n",
    "musicbrainzngs.set_useragent(1,1)"
   ]
  },
  {
   "cell_type": "code",
   "execution_count": 53,
   "metadata": {
    "collapsed": false
   },
   "outputs": [
    {
     "data": {
      "text/plain": [
       "{'artist': {'area': {'id': '8a754a16-0027-3a29-b6d7-2b40ea0481ed',\n",
       "   'iso-3166-1-code-list': ['GB'],\n",
       "   'name': 'United Kingdom',\n",
       "   'sort-name': 'United Kingdom'},\n",
       "  'begin-area': {'id': 'd840d4b3-8987-4626-928b-398de760cc24',\n",
       "   'name': 'Abingdon-on-Thames',\n",
       "   'sort-name': 'Abingdon-on-Thames'},\n",
       "  'country': 'GB',\n",
       "  'id': 'a74b1b7f-71a5-4011-9441-d0b5e4122711',\n",
       "  'isni-list': ['0000000115475162'],\n",
       "  'life-span': {'begin': '1991'},\n",
       "  'name': 'Radiohead',\n",
       "  'sort-name': 'Radiohead',\n",
       "  'tag-list': [{'count': '7', 'name': 'alternative rock'},\n",
       "   {'count': '1', 'name': 'art pop'},\n",
       "   {'count': '5', 'name': 'art rock'},\n",
       "   {'count': '0', 'name': 'bootleg'},\n",
       "   {'count': '0', 'name': 'britannique'},\n",
       "   {'count': '3', 'name': 'british'},\n",
       "   {'count': '2', 'name': 'britpop'},\n",
       "   {'count': '-1', 'name': 'c’était mieux avant'},\n",
       "   {'count': '4', 'name': 'electronic'},\n",
       "   {'count': '0', 'name': 'england'},\n",
       "   {'count': '1', 'name': 'english'},\n",
       "   {'count': '2', 'name': 'experimental rock'},\n",
       "   {'count': '1', 'name': 'grunge'},\n",
       "   {'count': '0', 'name': 'melancholic'},\n",
       "   {'count': '0', 'name': 'nude'},\n",
       "   {'count': '1', 'name': 'oxford'},\n",
       "   {'count': '0', 'name': 'parlophone'},\n",
       "   {'count': '7', 'name': 'rock'},\n",
       "   {'count': '0', 'name': 'rock and indie'},\n",
       "   {'count': '-1', 'name': 'sacred cows'},\n",
       "   {'count': '2', 'name': 'uk'}],\n",
       "  'type': 'Group'}}"
      ]
     },
     "execution_count": 53,
     "metadata": {},
     "output_type": "execute_result"
    }
   ],
   "source": [
    "musicbrainzngs.get_artist_by_id('a74b1b7f-71a5-4011-9441-d0b5e4122711',includes=['tags'])"
   ]
  },
  {
   "cell_type": "code",
   "execution_count": 51,
   "metadata": {
    "collapsed": false
   },
   "outputs": [
    {
     "data": {
      "text/plain": [
       "{'alternative': 1,\n",
       " 'art': 1,\n",
       " 'britannique': 1,\n",
       " 'british': 1,\n",
       " 'electronic': 1,\n",
       " 'england': 1,\n",
       " 'english': 1,\n",
       " 'experimental': 1,\n",
       " 'grunge': 1,\n",
       " 'indie': 1,\n",
       " 'pop': 1,\n",
       " 'rock': 1,\n",
       " 'uk': 1}"
      ]
     },
     "execution_count": 51,
     "metadata": {},
     "output_type": "execute_result"
    }
   ],
   "source": [
    "# function for getting the mode tag for an artist (alphabetical order)\n",
    "def modes_tag(artist_id):\n",
    "    result = musicbrainzngs.get_artist_by_id(artist_id,includes=['tags'])\n",
    "    tags = result['artist']['tag-list']\n",
    "    genres = {}\n",
    "    for genre in tags:\n",
    "            keywords = (genre['name']).lower()\n",
    "            keywords = keywords.replace('-',' ').replace('/',' ').split(' ')\n",
    "            for keyword in keywords:\n",
    "                if keyword in most_popular:\n",
    "                    genres[keyword] = 1\n",
    "    return genres\n",
    "\n",
    "modes_tag('a74b1b7f-71a5-4011-9441-d0b5e4122711')"
   ]
  },
  {
   "cell_type": "code",
   "execution_count": 9,
   "metadata": {
    "collapsed": true
   },
   "outputs": [],
   "source": [
    "# read in artist information\n",
    "artists = pd.read_csv('../musicrec-data/artists.csv', sep=',')\n",
    "artist_ids = artists['artist'].values"
   ]
  },
  {
   "cell_type": "code",
   "execution_count": 54,
   "metadata": {
    "collapsed": false,
    "scrolled": true
   },
   "outputs": [
    {
     "name": "stdout",
     "output_type": "stream",
     "text": [
      "{'baroque': 1, 'progressive': 1, 'art': 1, 'rock': 1, 'english': 1, 'pop': 1, 'british': 1, 'classic': 1, 'symphonic': 1, 'uk': 1}\n",
      "{'rock': 1, 'english': 1, 'indie': 1, 'british': 1, 'uk': 1}\n",
      "{'singer': 1, 'piano': 1, 'pop': 1, 'british': 1, 'soft': 1, 'folk': 1, 'acoustic': 1, 'rock': 1, 'english': 1, 'uk': 1, 'songwriter': 1, 'chart': 1}\n",
      "{'post': 1, 'punk': 1, 'new': 1, 'british': 1, 'pop': 1, 'england': 1, 'alternative': 1, 'baroque': 1, 'classic': 1, 'rock': 1, 'wave': 1, 'roll': 1, 'uk': 1}\n",
      "{'blues': 1, 'rock': 1, 'death': 1, 'jazz': 1}\n",
      "{'rock': 1, 'female': 1, 'metal': 1, 'new': 1, 'post': 1, 'alternative': 1, 'grunge': 1, 'hard': 1, 'christian': 1}\n",
      "{'american': 1, 'thrash': 1, 'metal': 1, 'metalcore': 1, 'hardcore': 1}\n",
      "{}\n",
      "{'female': 1, 'electropop': 1, 'synthpop': 1}\n",
      "{'irish': 1, 'norwegian': 1, 'folk': 1}\n",
      "{'pop': 1, 'chart': 1}\n",
      "{'singer': 1, 'female': 1, 'swedish': 1, 'rock': 1, 'pop': 1, 'songwriter': 1}\n",
      "{'80s': 1, 'progressive': 1, 'art': 1, 'opera': 1, 'pop': 1, 'british': 1, '70s': 1, 'soft': 1, 'folk': 1, '90s': 1, 'classic': 1, 'rock': 1, 'english': 1, 'uk': 1, 'symphonic': 1}\n",
      "{'indie': 1, 'american': 1, 'pop': 1, 'death': 1, 'acoustic': 1, 'rock': 1, 'folk': 1, 'américain': 1, 'singer': 1, 'songwriter': 1, 'usa': 1}\n",
      "{'rock': 1, 'indie': 1}\n",
      "{'indie': 1, 'rock': 1, 'post': 1, 'pop': 1, 'folk': 1, 'power': 1, 'punk': 1, 'american': 1, 'alternative': 1, 'américain': 1, 'usa': 1}\n",
      "{'80s': 1, 'england': 1, 'pop': 1, 'british': 1, '70s': 1, '10s': 1, 'heavy': 1, 'hard': 1, 'speed': 1, 'metal': 1, '90s': 1, 'classic': 1, 'rock': 1, 'roll': 1, 'uk': 1, '00s': 1}\n",
      "{'reggae': 1, 'rock': 1, 'folk': 1, 'punk': 1, 'blues': 1, 'psychedelic': 1}\n",
      "{'post': 1, 'punk': 1, 'new': 1, 'british': 1, 'pop': 1, 'england': 1, 'classic': 1, 'rock': 1, 'english': 1, 'wave': 1, 'dance': 1, 'uk': 1, 'funk': 1}\n",
      "{'indie': 1, 'american': 1, 'folk': 1, 'rock': 1, 'coast': 1, 'pop': 1, 'hard': 1, 'psychedelic': 1}\n"
     ]
    }
   ],
   "source": [
    "# build artist_genre_dict\n",
    "artist_genre_dict = {}\n",
    "c = 0\n",
    "for artist_id in artist_ids:\n",
    "    try: \n",
    "        genres = modes_tag(artist_id)\n",
    "        artist_genre_dict[artist_id] = genres\n",
    "    except (KeyError, musicbrainzngs.ResponseError):\n",
    "        artist_genre_dict[artist_id] = {} #(None, None)\n",
    "    c += 1\n",
    "    if (c % 100 == 0):\n",
    "        print(genres)\n",
    "\n",
    "# takes forever"
   ]
  },
  {
   "cell_type": "code",
   "execution_count": 56,
   "metadata": {
    "collapsed": false
   },
   "outputs": [
    {
     "name": "stdout",
     "output_type": "stream",
     "text": [
      "3e55d51d-687f-4a9d-af96-2fabccf802e5\n",
      "{'indie': 1, 'rock': 1, 'swedish': 1, 'alternative': 1, 'european': 1, 'pop': 1}\n",
      "2000\n"
     ]
    }
   ],
   "source": [
    "for k,v in artist_genre_dict.items():\n",
    "    print(k)\n",
    "    print(v)\n",
    "    break\n",
    "print(len(artist_genre_dict))"
   ]
  },
  {
   "cell_type": "code",
   "execution_count": 58,
   "metadata": {
    "collapsed": true
   },
   "outputs": [],
   "source": [
    "# SAVE AS CSV\n",
    "with open('artist_topgenre_dict_old.csv', 'w') as csv_file:\n",
    "    writer = csv.writer(csv_file)\n",
    "    for key, value in artist_genre_dict.items():\n",
    "        writer.writerow([key, value])"
   ]
  },
  {
   "cell_type": "code",
   "execution_count": 62,
   "metadata": {
    "collapsed": false
   },
   "outputs": [],
   "source": [
    "user_genre_dict = {}\n",
    "# train_data is a dict user: (dict artist: plays)\n",
    "for user, artist_info in train_data.items():\n",
    "    if (artist_info == (None, None)):\n",
    "        pass\n",
    "    genre_dict = {}\n",
    "    for artist, plays in artist_info.items():\n",
    "        gen_labels = artist_genre_dict[artist]\n",
    "        for genre in gen_labels:\n",
    "            if genre not in genre_dict:\n",
    "                genre_dict[genre] = (plays, 1)\n",
    "            else:\n",
    "                (num_genre_plays, num_genre_artists) = genre_dict[genre]\n",
    "                genre_dict[genre] = (num_genre_plays + plays, num_genre_artists + 1)\n",
    "#         # only proceed if genre is not None\n",
    "#         if genre1:\n",
    "#             # if the user hasn't already listened to the genre\n",
    "#             if genre1 not in genre_dict:\n",
    "#                 genre_dict[genre1] = (plays, 1)\n",
    "#             # otherwise, add number of plays to current total\n",
    "#             else:\n",
    "#                 (num_genre_plays, num_genre_artists) = genre_dict[genre1]\n",
    "#                 genre_dict[genre1] = (num_genre_plays + plays, num_genre_artists + 1)\n",
    "#         if genre2:\n",
    "#             if genre2 not in genre_dict:\n",
    "#                 genre_dict[genre2] = (plays, 1)\n",
    "#             else:\n",
    "#                 (num_genre_plays, num_genre_artists) = genre_dict[genre2]\n",
    "#                 genre_dict[genre2] = (num_genre_plays + plays, num_genre_artists + 1)\n",
    "    user_genre_dict[user] = genre_dict"
   ]
  },
  {
   "cell_type": "code",
   "execution_count": 63,
   "metadata": {
    "collapsed": false
   },
   "outputs": [
    {
     "name": "stdout",
     "output_type": "stream",
     "text": [
      "b033ce37c1cd4c442cd12a595ec3adcd1061111c\n",
      "{'american': (500, 3), 'piano': (112, 1), 'progressive': (338, 1), 'united': (887, 1), 'emo': (195, 1), 'r&b': (540, 1), 'alternative': (511, 3), 'metal': (314, 2), '10s': (272, 1), '90s': (272, 1), 'soul': (116, 1), 'uk': (887, 1), 'house': (494, 2), 'christian': (195, 1), 'songwriter': (276, 1), 'score': (267, 1), 'downtempo': (887, 1), 'french': (267, 1), 'film': (267, 1), 'seen': (397, 2), 'electronica': (1038, 6), '00s': (272, 1), 'américain': (116, 1), 'dance': (2501, 9), 'symphonic': (42, 1), 'trance': (687, 4), 'hall': (540, 1), '80s': (272, 1), 'pop': (2167, 7), 'electro': (267, 1), 'live': (397, 2), 'synthpop': (1154, 2), 'european': (433, 4), 'vocal': (401, 2), 'reggae': (116, 1), 'folk': (816, 2), 'classic': (1163, 2), 'techno': (44, 1), 'hip': (847, 3), 'nu': (267, 1), 'chart': (892, 4), 'dutch': (666, 4), 'singer': (1163, 2), 'gothic': (42, 1), 'electropop': (887, 1), 'canadian': (540, 1), 'electronic': (660, 5), 'german': (63, 1), 'rap': (579, 3), 'trip': (887, 1), 'hop': (1734, 4), 'usa': (388, 2), 'rock': (2326, 7), 'disco': (267, 1), 'rnb': (540, 1), 'funk': (272, 1)}\n",
      "233286\n"
     ]
    }
   ],
   "source": [
    "for k,v in user_genre_dict.items():\n",
    "    print(k)\n",
    "    print(v)\n",
    "    break\n",
    "print(len(user_genre_dict))"
   ]
  },
  {
   "cell_type": "code",
   "execution_count": 18,
   "metadata": {
    "collapsed": false
   },
   "outputs": [],
   "source": [
    "# SAVE AS CSV\n",
    "with open('user_topgenre_dict.csv', 'w') as csv_file:\n",
    "    writer = csv.writer(csv_file)\n",
    "    for key, value in user_genre_dict.items():\n",
    "        writer.writerow([key, value])"
   ]
  },
  {
   "cell_type": "markdown",
   "metadata": {},
   "source": [
    "## Artist information, searching, and browsing"
   ]
  },
  {
   "cell_type": "code",
   "execution_count": 44,
   "metadata": {
    "collapsed": false
   },
   "outputs": [
    {
     "name": "stdout",
     "output_type": "stream",
     "text": [
      "name:\t\tRadiohead\n",
      "rating:\t\t{'votes-count': '59', 'rating': '4.45'}\n",
      "release 0:\t{'release-event-list': [{'date': '1993', 'area': {'id': '89a675c2-3e37-3518-b83c-418bad59a85a', 'name': 'Europe', 'iso-3166-1-code-list': ['XE'], 'sort-name': 'Europe'}}], 'text-representation': {'language': 'eng', 'script': 'Latn'}, 'title': 'Pablo Honey', 'id': '06487940-c7d4-4af3-976d-0be796d686ce', 'packaging': 'Jewel Case', 'date': '1993', 'country': 'XE', 'status': 'Official', 'release-event-count': 1, 'quality': 'normal', 'barcode': '077778140924'}\n"
     ]
    }
   ],
   "source": [
    "musicbrainzngs.search_artists(\"radiohead\")\n",
    "#musicbrainzngs.search_recordings(\"bennie and the jets\")\n",
    "\n",
    "radiohead_id = \"a74b1b7f-71a5-4011-9441-d0b5e4122711\"\n",
    "radiohead_result = musicbrainzngs.get_artist_by_id(radiohead_id,includes=[\"releases\",\"ratings\"])\n",
    "radiohead_artist = radiohead_result[\"artist\"]\n",
    "\n",
    "print(\"name:\\t\\t%s\" % radiohead_artist[\"name\"])\n",
    "print(\"rating:\\t\\t%s\" % radiohead_artist[\"rating\"])\n",
    "print(\"release 0:\\t%s\" % radiohead_artist[\"release-list\"][0])\n",
    "\n",
    "# dictionary of recordings for radiohead\n",
    "# musicbrainzngs.browse_recordings(radiohead_id)\n",
    "\n",
    "# \"artist\" can include the following information:\n",
    "# recordings, releases, release-groups, works, various-artists,\n",
    "# discids, media, isrcs, aliases, annotation, area-rels, artist-rels,\n",
    "# label-rels, place-rels, event-rels, recording-rels, release-rels,\n",
    "# release-group-rels, series-rels, url-rels, work-rels, instrument-rels,\n",
    "# tags, user-tags, ratings, user-ratings"
   ]
  },
  {
   "cell_type": "markdown",
   "metadata": {},
   "source": [
    "## Cover art information"
   ]
  },
  {
   "cell_type": "code",
   "execution_count": 42,
   "metadata": {
    "collapsed": false
   },
   "outputs": [
    {
     "data": {
      "text/plain": [
       "{u'images': [{u'approved': True,\n",
       "   u'back': False,\n",
       "   u'comment': u'',\n",
       "   u'edit': 35299266,\n",
       "   u'front': True,\n",
       "   u'id': 11628918400,\n",
       "   u'image': u'http://coverartarchive.org/release/081e7033-5282-4bd7-9963-e64edf8c693a/11628918400.jpg',\n",
       "   u'thumbnails': {u'large': u'http://coverartarchive.org/release/081e7033-5282-4bd7-9963-e64edf8c693a/11628918400-500.jpg',\n",
       "    u'small': u'http://coverartarchive.org/release/081e7033-5282-4bd7-9963-e64edf8c693a/11628918400-250.jpg'},\n",
       "   u'types': [u'Front']}],\n",
       " u'release': u'https://musicbrainz.org/release/081e7033-5282-4bd7-9963-e64edf8c693a'}"
      ]
     },
     "execution_count": 42,
     "metadata": {},
     "output_type": "execute_result"
    }
   ],
   "source": [
    "# gets the list of cover art associated with a release\n",
    "musicbrainzngs.get_image_list(\"081e7033-5282-4bd7-9963-e64edf8c693a\")\n",
    "\n",
    "# downloads the front cover art of a release\n",
    "# musicbrainzngs.get_image_front(\"081e7033-5282-4bd7-9963-e64edf8c693a\")"
   ]
  },
  {
   "cell_type": "code",
   "execution_count": 15,
   "metadata": {
    "collapsed": false
   },
   "outputs": [
    {
     "data": {
      "text/plain": [
       "{'artist': {'area': {'id': '6a264f94-6ff1-30b1-9a81-41f7bfabd616',\n",
       "   'iso-3166-1-code-list': ['FI'],\n",
       "   'name': 'Finland',\n",
       "   'sort-name': 'Finland'},\n",
       "  'begin-area': {'id': '638a021d-f628-4266-8a91-7956f91f1e08',\n",
       "   'name': 'Espoo',\n",
       "   'sort-name': 'Espoo'},\n",
       "  'country': 'FI',\n",
       "  'id': 'f57e14e4-b030-467c-b202-539453f504ec',\n",
       "  'isni-list': ['0000000122931058'],\n",
       "  'life-span': {'begin': '1997'},\n",
       "  'name': 'Children of Bodom',\n",
       "  'sort-name': 'Children of Bodom',\n",
       "  'tag-list': [{'count': '1', 'name': 'death metal'},\n",
       "   {'count': '2', 'name': 'finnish'},\n",
       "   {'count': '4', 'name': 'melodic death metal'},\n",
       "   {'count': '2', 'name': 'metal'},\n",
       "   {'count': '0', 'name': 'rock and indie'}],\n",
       "  'type': 'Group'}}"
      ]
     },
     "execution_count": 15,
     "metadata": {},
     "output_type": "execute_result"
    }
   ],
   "source": [
    "aid = 'f57e14e4-b030-467c-b202-539453f504ec'\n",
    "musicbrainzngs.get_artist_by_id(aid,includes=[\"tags\"])"
   ]
  },
  {
   "cell_type": "markdown",
   "metadata": {},
   "source": [
    "# Making Predictions"
   ]
  },
  {
   "cell_type": "code",
   "execution_count": null,
   "metadata": {
    "collapsed": false
   },
   "outputs": [],
   "source": [
    "# Write out test solutions.\n",
    "# Need to run previous block of code to get user_medians and global_median\n",
    "Y_hat = {} # add this Y_hat line_id stuff to every solution\n",
    "line_id = 1\n",
    "alpha = 0.4\n",
    "soln_file = 'topgenres.csv'\n",
    "with open(test_file, 'r') as test_fh:\n",
    "    test_csv = csv.reader(test_fh, delimiter=',', quotechar='\"')\n",
    "    next(test_csv, None)\n",
    "\n",
    "    with open(soln_file, 'w') as soln_fh:\n",
    "        soln_csv = csv.writer(soln_fh,\n",
    "                              delimiter=',',\n",
    "                              quotechar='\"',\n",
    "                              quoting=csv.QUOTE_MINIMAL)\n",
    "        soln_csv.writerow(['Id', 'plays'])\n",
    "\n",
    "        for row in test_csv:\n",
    "            id     = row[0]\n",
    "            user   = row[1]\n",
    "            artist = row[2]\n",
    "            genres = artist_genre_dict[artist]\n",
    "            \n",
    "            if user in user_medians:\n",
    "                no_genre_median = user_medians[user]\n",
    "            else:\n",
    "                no_genre_median = global_median\n",
    "                \n",
    "            user_genre_avg_plays = 0\n",
    "            ug_denom = 0\n",
    "            # Sanity check if statements\n",
    "            for genre in genres:\n",
    "                if (genre in user_genre_dict[user]):\n",
    "                    user_genre_avg_plays += user_genre_dict[user][genre][0]\n",
    "                    ug_denom += user_genre_dict[user][genre][1]\n",
    "#             if (genre1 and genre1 in user_genre_dict[user]):\n",
    "#                 user_genre_avg_plays += user_genre_dict[user][genre1][0] / user_genre_dict[user][genre1][1]\n",
    "#             if (genre2 and genre2 in user_genre_dict[user]):\n",
    "#                 user_genre_avg_plays += user_genre_dict[user][genre2][0] / user_genre_dict[user][genre2][1]\n",
    "#             if (genre1 and genre2 and genre1 in user_genre_dict[user] and genre2 in user_genre_dict[user]):\n",
    "#                 user_genre_avg_plays /= 2\n",
    "\n",
    "            if (user_genre_avg_plays):\n",
    "                Y_hat[line_id] = alpha * (user_genre_avg_plays / ug_denom) + (1 - alpha) * no_genre_median\n",
    "            else:\n",
    "                Y_hat[line_id] = no_genre_median\n",
    "            \n",
    "            soln_csv.writerow([id, Y_hat[line_id]])\n",
    "            line_id += 1"
   ]
  },
  {
   "cell_type": "code",
   "execution_count": 73,
   "metadata": {
    "collapsed": false
   },
   "outputs": [],
   "source": [
    "# For kfold: make predictions on partial training data (using user median criteria)\n",
    "Y_hat = {}\n",
    "line_id = 1\n",
    "alpha = 0.8\n",
    "with open(train_file, 'r') as train_fh:\n",
    "    train_csv = csv.reader(train_fh, delimiter=',', quotechar='\"')\n",
    "    next(train_csv, None)\n",
    "    \n",
    "    for row in train_csv:\n",
    "        user = row[0]\n",
    "        artist = row[1]\n",
    "        genres = artist_genre_dict[artist]\n",
    "        # modify this part if using different criteria\n",
    "        if user in user_medians:\n",
    "            no_genre_median = user_medians[user]\n",
    "        else:\n",
    "            no_genre_median = global_median\n",
    "                \n",
    "        user_genre_avg_plays = 0\n",
    "        ug_denom = 0\n",
    "        # Sanity check if statements\n",
    "        for genre in genres:\n",
    "            if (genre in user_genre_dict[user]):\n",
    "                user_genre_avg_plays += user_genre_dict[user][genre][0]\n",
    "                ug_denom += user_genre_dict[user][genre][1]\n",
    "                    \n",
    "        if (user_genre_avg_plays):\n",
    "            Y_hat[line_id] = alpha * (user_genre_avg_plays / ug_denom) + (1 - alpha) * no_genre_median\n",
    "        else:\n",
    "            Y_hat[line_id] = no_genre_median\n",
    "        line_id += 1"
   ]
  },
  {
   "cell_type": "code",
   "execution_count": 77,
   "metadata": {
    "collapsed": false
   },
   "outputs": [
    {
     "data": {
      "text/plain": [
       "254.86761466187446"
      ]
     },
     "execution_count": 77,
     "metadata": {},
     "output_type": "execute_result"
    }
   ],
   "source": [
    "np.mean([abs(Y_hat[i] - Y_actual[i]) for i in range(1, len(Y_hat))])"
   ]
  },
  {
   "cell_type": "code",
   "execution_count": null,
   "metadata": {
    "collapsed": false
   },
   "outputs": [],
   "source": []
  },
  {
   "cell_type": "code",
   "execution_count": null,
   "metadata": {
    "collapsed": false
   },
   "outputs": [],
   "source": []
  },
  {
   "cell_type": "markdown",
   "metadata": {
    "collapsed": false
   },
   "source": [
    "# K Means"
   ]
  },
  {
   "cell_type": "code",
   "execution_count": 6,
   "metadata": {
    "collapsed": false
   },
   "outputs": [],
   "source": [
    "# must set user agent before any requests are made\n",
    "# musicbrainzngs.set_useragent(1,1)\n",
    "# top 100 words\n",
    "artists = pd.read_csv('../musicrec-data/artists.csv', sep=',')\n",
    "artist_ids = artists['artist'].values"
   ]
  },
  {
   "cell_type": "code",
   "execution_count": null,
   "metadata": {
    "collapsed": false
   },
   "outputs": [],
   "source": []
  },
  {
   "cell_type": "code",
   "execution_count": 14,
   "metadata": {
    "collapsed": false,
    "scrolled": true
   },
   "outputs": [
    {
     "name": "stdout",
     "output_type": "stream",
     "text": [
      "20\n",
      "40\n",
      "60\n",
      "80\n",
      "100\n",
      "120\n",
      "140\n",
      "160\n",
      "180\n",
      "200\n",
      "220\n",
      "240\n",
      "260\n",
      "280\n",
      "300\n",
      "320\n",
      "340\n",
      "360\n",
      "380\n",
      "400\n",
      "420\n",
      "440\n",
      "460\n",
      "480\n",
      "500\n",
      "{'': 4, 'electro': 13, 'glitch': 1, 'sillyname': 3, 'british': 71, 'thrash': 10, 'unknown': 1, 'r&b': 18, 'explain': 1, 'nu': 8, 'grooves': 1, 'house': 18, \"80's\": 1, 'dream': 4, 'score': 4, 'composer': 15, 'swiss': 2, 'space': 2, 'protopunk': 1, '*england→north': 1, 'poppunk': 1, 'lazy': 2, 'mess!': 1, 'electronica': 42, 'southern': 5, 'shock': 1, 'beyer': 1, '333': 1, 'definitive': 1, 'dance': 89, 'grindcore': 1, 'hall': 16, 'dedicated': 1, 'espagne': 1, 'nitzer': 1, 'base': 1, 'рождества': 1, 'catalana': 1, 'symphony': 1, 'bass': 10, '51': 1, 'black': 10, 'kind': 1, 'honky': 1, 'brutal': 1, 'oldest': 1, 'doo': 1, 'failure': 1, 'ffs': 1, 'orchestral': 1, 'avant': 4, '70s': 5, 'lies': 1, 'up': 3, 'ultimatecore': 1, 'meltdown': 1, 'chamber': 1, 'roll': 9, '34ad': 1, 'american': 90, 'casanovas': 1, 'nashville': 1, 'summer': 1, 'manson': 1, 'méxico': 3, 'brésilien': 1, 'country': 25, 'berlin': 4, 'tenor': 1, 'venezolana': 1, 'va': 5, 'london': 1, 'http:': 1, 'back': 1, 'futebol': 1, 'game': 3, 'ost': 1, 'contemporary': 25, 'beethoven': 1, 'south': 2, 'modern': 2, 'simon': 1, 'travis': 3, 'los': 2, 'kinderchöre': 1, 'texas': 1, 'award': 1, 'nox': 1, 'power': 26, 'modal': 1, 'satire': 1, 'español': 5, 'electonic': 2, 'vocalist': 3, 'jump': 2, 'backstreet': 1, 'urban': 2, 'bebop': 2, 'language': 1, '001b': 1, 'make': 2, 'niroshima': 1, 'pirate': 1, 'using': 2, 'groove': 5, '155376': 1, 'ohio': 1, 'lord': 1, 'are': 5, 'field': 1, 'turntablism': 1, 'artists\"': 1, 'creative': 1, 'bossa': 2, 'ddr': 1, 'polish': 4, 'shwetabh': 1, 'no.': 1, 'mexican': 2, 'dub': 2, 'van': 2, 'unable': 1, 'chillout': 3, 'musica': 1, '197822': 1, 'sonatas': 1, 'speed': 7, 'infantil': 1, 'guys': 1, 'soul': 34, 'warp': 5, 'blues': 50, 'scandinavia': 3, 'of': 8, 'lewis': 1, 'vegan': 1, 'härte': 1, 'goth': 5, 'production': 3, 'hillbilly': 1, 'voting': 1, 'danish': 1, 'pub': 2, 'deutsche': 1, 'eurovision': 5, 'chanson': 1, 'atedos': 1, 'bravo': 2, 'américain': 21, 'birthday': 1, 'ministry': 1, 'world': 4, 'producteur': 1, 'europop': 2, 'scottish': 4, 'gospel': 2, 'classic': 88, 'diao': 1, 'vocalists': 5, '166189': 1, 'dutch': 5, 'latin': 9, 'filmore': 1, 'want': 2, 'ethnic': 1, 'devotional': 2, 'anarcho': 1, 'heartland': 1, 'iran': 1, 'classwar': 1, 'insomnia': 1, 'hard': 32, 'your': 2, 'masterworks': 1, 'favolite': 1, 'rock.': 1, 'ussr': 1, 'fronted': 1, 'dc': 1, 'kapiteinwinokio': 1, 'anti': 2, '86121': 1, 'g': 1, 'stuff': 1, 'committee': 1, 'eire': 1, 'prog': 5, 'frédéric': 1, 'broke': 1, 'songwriter': 19, '2': 1, 'es': 1, 'teen': 2, 'miley': 1, 'sludge': 5, 'fjord': 1, 'michael': 1, 'no': 2, 'kpop': 1, 'big': 4, 'hemi': 1, '*every*': 1, 'california': 8, 'music': 11, 'school': 1, 'male': 4, 'greek': 2, 'collage': 1, 'likedis': 2, '2k7': 1, 'swedish': 8, 'n': 1, 'group': 3, '75112': 1, 'comprehend': 1, '1': 6, '60s': 2, 'deep': 6, 'sadcore': 1, 'australien': 2, 'birds': 1, 'tangazo': 1, 'sind': 1, 'sophisti': 6, 'scandinavian': 3, 'triphop': 3, '1973': 1, 'rhythm': 5, 'best': 1, 'vi': 1, 'funk': 12, 'hiphop': 6, 'b2aa521d': 1, 'aor': 12, 'piano': 7, 'candombe': 1, 'educacion': 1, 'lala': 1, 'wireharp': 1, 'garage': 9, 'scandinavie': 3, 'powels': 1, 'host': 1, 'seen': 6, 'reggaeton': 1, '32': 1, '734500': 1, 'dresch': 1, 'japanese': 4, '2014': 1, 'delta': 1, 'never': 1, 'volkstümliche': 1, '1970s': 1, 'gérard': 1, 'http': 1, '108473': 1, \"king's\": 1, 'bb12b20e': 1, \"90's\": 1, 'rapper': 2, 'swing': 3, 'tag?': 1, 'aggro': 1, 'live': 9, 'japan': 2, 'desert': 1, 'vocal': 9, 'gratuitous': 1, 'www.musik': 1, 'italian': 1, 'absolute': 1, 'darkwave': 2, 'jello': 1, 'todo': 1, 'russia': 1, 'langham': 1, 'girl': 1, 'chart': 24, 'hot': 1, 'liturgic': 1, 'believe': 1, 'accordéoniste': 1, 'fuzz': 1, 'math': 3, 'buddhist': 1, 'airplane': 1, 'magic': 1, 'deathcore': 2, 'rock': 705, '1980s': 1, 'wave': 20, 'concerto': 2, 'fm': 1, 'united': 16, 'lounge': 2, 'electric': 3, 'die': 1, 'belgian': 1, 'celtic': 5, 'opus': 1, 'soft': 13, 'a5e9': 1, 'drowning': 1, 'mpb': 1, 'engel': 1, 'diy': 1, 'mando': 1, 'fi': 2, 'josquin': 1, 'francophone': 3, 'special': 1, 'indietronica': 3, 'pianist': 1, 'credits': 2, 'calypso': 1, 'tiësto': 1, 'mbs': 1, 'england': 10, 'musik': 1, 'klaus': 1, 'fictional': 1, 'collection': 3, 'volts': 1, 'acoustic': 15, 'fusion': 3, 'my': 2, 'foreign': 1, 'for': 2, 'glasgow': 1, 'living': 1, 'id_artist': 1, '734011.jpg': 1, 'mimicking': 1, 'arena': 2, 'reggae': 15, 'kitaro': 1, 'tags': 7, 'techno': 5, 'welcome': 1, 'parlophone': 1, 'healing': 1, 'this': 4, 'kaa': 1, 'brazil': 2, 'andrade': 2, 'simi': 1, '39556': 1, 'french': 9, 'britpop': 1, '10s': 3, 'futurepop': 1, 'hop': 89, 'free': 1, 'sprechgesang': 1, 'jungle': 1, 'religious': 1, 'usa': 44, 'saxophone': 1, 'spoken': 1, 'remixes': 1, 'experimental': 21, '7': 1, 'christmas': 4, 'mundo': 1, 'desperado': 1, 'emo': 9, 'tang': 2, '24': 1, 'beats': 1, 'studio': 1, '90s': 6, 'various': 4, '1976': 1, 'alternative': 99, 'english': 48, 'ambient': 12, 'accordionist': 1, 'canton': 1, 'papeete': 1, 'canadian': 8, 'elc': 1, 'folktronica': 2, 'sweet': 1, 'label': 2, 'conscious': 1, '101': 1, 'cobles': 1, 'rockabilly': 2, 'bandoneonist': 1, 'ipi': 2, 'spirito': 1, 'unplugged': 1, 'moments': 1, 'film': 7, 'e': 2, 'share': 1, 'that': 1, 'p': 1, 'muzyka': 1, 'jam': 3, 'sunshine': 3, 'mess': 9, 'metalcore': 7, 'what': 2, 'hands': 2, 'sixes': 1, 'acid': 2, 'jeff': 1, 'ebb': 1, 'bubblegum': 1, 'enya': 1, 'people': 1, 'pzzqxnzt6snn_ekrngheoblbupu': 1, 'madchester': 2, 'dancehall': 1, 'irish': 4, 'blackened': 1, 'll': 1, 'depressive': 1, 'suède': 3, 'kinderliedjes': 1, '25894': 1, 'trash': 1, 'ozzy': 1, 'kingdom': 5, 'australie': 2, 'look': 2, 'cargo': 1, 'shine': 1, 'album': 3, 'revival': 6, '\"various': 1, 'wop': 1, 'standards': 1, 'klavierwerke': 1, 'ireland': 1, 'wu': 2, 'duo': 1, 'argentinian': 1, 'baroque': 4, 'troll': 1, '144086': 1, 'nothing': 1, 'prostate': 1, '96491': 1, 'pilot': 1, 'rapcore': 3, 'norsk': 1, 'post': 48, 'lo': 3, 'chants': 1, 'ballad': 1, 'del': 1, \"don't\": 4, 'x': 1, 'diaz': 1, 'flamenca': 1, 'andrew': 1, 'more': 1, 'argentina': 1, 'crunk&b': 1, 'candidate': 1, 'has': 1, 'welsh': 1, 'bay': 1, 'grandes': 1, 'way': 1, 'uplifting': 1, 'make.': 1, 'washington': 1, 'vera': 1, 'tilson': 1, '80': 2, 'boys': 1, 'aires': 1, 'ghostly': 1, 'grande': 1, 'attack': 1, 'drei': 1, 'listen': 2, 'drum': 9, 'sound': 3, 'cirrhosis': 1, 'desi': 2, 'jazz': 35, 'b': 2, 'halen': 1, 'valley': 1, 'idm': 2, 'uk': 61, 'blue': 1, 'romantic': 3, 'cotm': 1, 'destiny': 1, 'greatest': 2, 'recordings': 1, 'platinum': 1, 'lyrics': 3, 'samba': 1, 'palaprat': 1, 'stoner': 2, 'high': 1, '50cents': 1, 'bop': 2, 'skrillex': 1, 'minnesotan': 1, 'stay': 1, 'graphic': 1, 'symphonic': 18, 'psychedelic': 19, 'latinamerican': 1, 'abstract': 2, 'punk': 94, 'doom': 7, 'trikitixa': 1, 'mix': 1, 'der': 1, '52': 1, 'songs': 1, 'wir': 1, 'easy': 5, 'soundtrack': 12, 'chanteur': 2, 'release': 1, 'singer': 22, 'gothic': 22, 'it': 1, 'hip': 79, 'namjoo': 1, '5': 2, 'fun': 1, 'everything': 1, 'crazy': 1, 'auto': 2, 'bandoneón': 1, 'bandoneon': 1, 'jackson': 3, 'synth': 6, 'biafra': 1, 'rumba': 3, 'oriented': 1, 'alt': 2, 'noise': 5, 'andre': 1, 'limerick': 1, 'shankar': 1, 'medieval': 1, 'epitaph': 1, 'miroque': 1, 'liquid': 1, 'classique': 1, 'chritmas': 1, 'scotland': 2, 'finland': 2, 'warming': 1, 'rate': 2, 'musicbrainz': 1, 'cold': 1, 'sri': 1, '00s': 6, 'musique': 1, 'john': 2, 'word': 1, 'mohsen': 1, 'bareto': 1, 'college': 2, 'alias': 1, 'slow': 1, 'soundtracks': 6, 'old': 1, 'gaulish': 1, 'psychobilly': 3, 'alirio': 1, 'video': 4, 'carla': 1, 'to': 8, 'horror': 1, 'blige': 1, 'disc': 2, 'art': 19, 'german': 30, 'j': 2, 'tropicália': 1, 'humppa': 1, 'cyrus': 1, 'traditional': 3, 'awesomename': 2, 'is': 3, 'middle': 1, 'queen': 3, 'ninja': 1, 'us': 4, 'speeches': 1, 'still': 1, 'eyes': 1, 'gangsta': 2, 'extreme': 3, 'psytrance': 2, 'nederlands': 1, 'covers': 2, 'classical': 17, 'yourself': 1, 'apparently': 1, 'in': 3, 'commons': 1, 'designer': 2, 'determined': 1, 'detroit': 1, 'finnish': 6, 'flamenco': 2, '嫌われ松子の歌たち': 1, 'medley': 1, 'icelandic': 1, \"70's\": 1, '\"mess\"': 1, 'blackout': 1, 'academy': 1, 'n2': 3, 'guitar': 1, 'cool': 1, 'primer': 1, 'cabaret': 1, 'european': 17, 'age': 7, 'binaural': 1, 'supremo': 1, 'buenos': 1, 'gaze': 1, 'minnesota': 1, 'technical': 2, 'wave:': 1, 'umlaut': 1, 'la': 2, 'mayer': 1, 'мелодии': 1, 'basque': 1, 'janet': 2, 'hamburg': 1, 'atmospheric': 1, 'carioca': 1, 'ca310e55b254': 1, 'ng': 2, '217528': 1, 'chicago': 1, 'utrecht': 1, 'electroclash': 2, 'euro': 8, 'de': 2, 'elevator': 1, 'eyed': 1, 'synclavier': 1, 'gorillaz': 1, 'mr.': 1, 'eurotrance': 1, 'east': 5, '#1': 1, 'complextro': 1, 'ultimate': 1, 'tropical': 1, 'vinyl': 1, 'berkeley': 1, 'spain': 2, 'liver': 1, 'fail': 1, '1933': 1, 'ska': 9, 'angeles': 1, '62358': 1, 'winner': 1, 'lebe': 1, 'musical': 1, 'asian': 4, 'popular': 1, 'norwegian': 5, 'york': 5, 'culture': 1, 'heavy': 21, 'australian': 4, 'concrète': 1, 'vgm': 1, 'county': 2, 'proto': 2, 'alicia': 1, 'band': 11, 'tune': 1, 'britannique': 14, 'hull': 1, 'artist;': 1, 'glam': 14, 'pitbull': 1, 'hed': 1, 'portuguese': 1, 'gibbard': 1, 'jenny': 1, 'beck': 1, 'melodic': 10, 'paul': 1, 'florida': 1, 'eazy': 1, 'sweden': 6, 'meditation': 1, 'downbeat': 1, 'global': 1, 'orthodox': 1, '122788': 1, 'not': 1, 'comedy': 4, 'fixme': 5, 'visions': 1, 'html': 1, 'manchester': 1, 'baumgart': 1, 'z103': 1, 'reader': 1, 'americana': 3, 'purple': 4, 'dvd': 1, 'awake': 1, '2001': 1, 'adam': 1, 'diabetes': 1, 'stop': 3, 'fresh': 1, 'twee': 1, 'skate': 2, 'low': 1, 'the': 11, 'death': 36, 'gold': 1, '10': 1, 'tagmess': 1, 'sucks': 1, 'clueso': 1, 'bbc': 1, '57': 1, 'messy': 1, 'menuhin': 1, 'anthology': 1, '4': 1, 'filk': 1, 'lung': 3, 'dark': 5, 'ibiza': 2, 'a': 6, 'you': 6, 'roots': 1, 'electropop': 20, 'opera': 8, 'love': 3, 'cover': 1, 'coast': 8, 'tonk': 1, 'barker': 3, 'maltido': 1, 'bruni': 1, 'folklore': 1, 'crossover': 4, 'street': 1, 'producer': 3, 'bluegrass': 3, 'coltrane': 1, 'east→wallsend': 1, 'vocals': 1, 'baggy': 1, 'metal': 235, 'political': 3, 'massachusetts': 1, 'français': 3, 'hardcore': 28, 'garde': 3, 'ben': 1, 'core': 4, 'christian': 7, 'multiple': 2, 'trip': 15, 'listening': 5, 'downtempo': 10, 'montuno': 1, 'krautrock': 3, '16': 1, 'brazilian': 3, 'indie': 148, 'new': 41, 'fix': 3, 'billboard': 1, '*should*': 1, 'choral': 1, 'local': 1, 'africa': 1, '1990s': 1, 'sonic': 1, 'song': 1, 'ebm': 1, 'australia': 2, 'musicals': 5, 'on': 1, 'traffic': 1, 'grunge': 11, 'tag': 2, 'rap': 24, '150': 1, 'downvoting': 1, 'razieq': 1, 'west': 4, 'pony': 1, 'orange': 2, 'heart': 2, 'sophie': 1, 'by': 12, 'seducer': 1, 'industrial': 15, 'cd': 1, 'buuren': 1, 'lil': 1, 'armin': 1, '70': 1, 'marilyn': 1, 'liz': 2, 'escapade': 1, 'anime': 1, 'artists': 3, 'zarzuela': 1, 'nuevo': 2, 'instrumental': 10, 'pop': 379, 'org': 1, 'female': 5, 'full': 1, 'disco': 7, 'nova': 2, 'we': 1, 'chopin': 1, 't': 1, 'jucanto': 1, 'choir': 1, 'dubstep': 1, 'chigaco': 1, 'hits': 4, '186497': 1, 'wagnerian': 1, 'tango': 4, '82': 1, 'oye': 1, 'osbourne': 1, 'down': 3, 'neue': 1, 'tejano': 1, 'helden': 1, 'meta': 1, 'synthpop': 20, 'club': 3, 'mary': 1, 'ever!': 1, 'dock': 1, 'folk': 66, 'spanish': 4, 'neo': 6, 'larrocha': 1, 'impressionist': 1, 'crooner': 1, 'scandinave': 3, 'beat': 1, 'skool': 1, 'electronic': 49, 'piosenka': 1, 'espagnol': 1, 'autorska': 1, 'jaikishan': 1, 'why': 2, 'france': 5, 'states': 11, 'bioshock': 1, 'españa': 1, 'spirit': 1, 'karaoke': 1, 'progressive': 37, 'psychedelia': 2, 'breakout': 1, 'com': 1, 'zero': 1, 'adult': 6, '13231': 1, 'slowcore': 1, 'ffs!': 1, 'leeds': 1, 'sammler.de': 1, 'eurodance': 5, 'jangle': 2, 'international': 1, 'chill': 1, 'djent': 1, 'sync': 1, 'ragga': 1, 'audiobooks': 1, 'poetycka': 1, 'tunguska': 1, 'zweiohr': 1, 'moombahton': 1, 'lankan': 1, 'wtf': 1, 'trance': 20, 'automod': 2, 'vol': 2, 'fuzzy': 1, 'swamp': 1, 'éxitos': 1, 'artist': 12, '4ad': 4, 'drill': 1, 's': 4, 'all': 1, 'and': 248, 'humo': 1, '&': 11, 'mega': 1, '80s': 11, 'grase': 1, 'suédois': 3, 'tanzmetall': 1, '134485': 1, 'graphique': 1, 'gun': 1, 'purpose': 1, 'rnb': 23, 'odyssey': 1, 'shoegaze': 3, 'me': 1, 'cancer': 5, 'family': 3, 'tempo': 2, 'brésil': 1}\n"
     ]
    }
   ],
   "source": [
    "most_popular = {}\n",
    "c = 0\n",
    "for artist_id in artist_ids[500:]:\n",
    "    try: \n",
    "        result = musicbrainzngs.get_artist_by_id(artist_id,includes=['tags'])\n",
    "        tags = result['artist']['tag-list']\n",
    "        for genre in tags:\n",
    "            keywords = (genre['name']).lower()\n",
    "            keywords = keywords.replace('-',' ').replace('/',' ').split(' ')\n",
    "            for keyword in keywords:\n",
    "                if (keyword in most_popular.keys()):\n",
    "                    most_popular[keyword] += 1\n",
    "                else:\n",
    "                    most_popular[keyword] = 1\n",
    "    except (KeyError, musicbrainzngs.ResponseError):\n",
    "        pass\n",
    "    \n",
    "    c += 1\n",
    "    if (c % 20 == 0):\n",
    "        print(c)\n",
    "    if (c > 500):\n",
    "        break\n",
    "        \n",
    "print(most_popular)\n",
    "    \n",
    "# parse strings\n",
    "# get set of top 100\n",
    "# create a dict just like the last one\n",
    "# 16"
   ]
  },
  {
   "cell_type": "code",
   "execution_count": 15,
   "metadata": {
    "collapsed": false,
    "scrolled": true
   },
   "outputs": [
    {
     "name": "stdout",
     "output_type": "stream",
     "text": [
      "{'american': 90, 'pop': 379, 'power': 26, 'punk': 94, 'post': 48, 'new': 41, 'german': 30, 'uk': 61, 'jazz': 35, 'heavy': 21, 'hard': 32, 'metal': 235, 'folk': 66, 'soul': 34, 'classic': 88, 'alternative': 99, 'english': 48, 'blues': 50, 'chart': 24, 'singer': 22, 'gothic': 22, 'country': 25, 'hip': 79, 'progressive': 37, 'hardcore': 28, 'electronic': 49, 'british': 71, 'rap': 24, 'electronica': 42, 'indie': 148, 'hop': 89, 'death': 36, 'usa': 44, 'rock': 705, 'and': 248, 'contemporary': 25, 'américain': 21, 'dance': 89, 'rnb': 23, 'experimental': 21}\n"
     ]
    }
   ],
   "source": [
    "print({k: v for k, v in most_popular.items() if v > 20})"
   ]
  },
  {
   "cell_type": "code",
   "execution_count": null,
   "metadata": {
    "collapsed": false
   },
   "outputs": [],
   "source": []
  },
  {
   "cell_type": "code",
   "execution_count": 50,
   "metadata": {
    "collapsed": false
   },
   "outputs": [],
   "source": [
    "with open('mostmostpopular.csv', 'w') as mp_fh:\n",
    "    mp_csv = csv.writer(mp_fh, delimiter=',', quotechar='\"', quoting=csv.QUOTE_MINIMAL)\n",
    "    for k,v in most_popular.items():\n",
    "        if (v > 1):\n",
    "            mp_csv.writerow([k,v])"
   ]
  },
  {
   "cell_type": "code",
   "execution_count": 19,
   "metadata": {
    "collapsed": false
   },
   "outputs": [],
   "source": [
    "with open('mostpopular.csv', 'r') as mp_fh:\n",
    "    mp_csv = csv.reader(mp_fh, delimiter=',', quotechar='\"')\n",
    "    next(mp_csv, None)\n",
    "    \n",
    "    for row in mp_csv:\n",
    "        if (row):\n",
    "            word = row[0]\n",
    "            number = int(row[1])\n",
    "            if word in most_popular:\n",
    "                most_popular[word] += number\n",
    "            else:\n",
    "                most_popular[word] = number"
   ]
  },
  {
   "cell_type": "code",
   "execution_count": 47,
   "metadata": {
    "collapsed": false
   },
   "outputs": [],
   "source": [
    "most_popular = {k: v for k, v in most_popular.items() if v > 9}"
   ]
  },
  {
   "cell_type": "code",
   "execution_count": 49,
   "metadata": {
    "collapsed": false
   },
   "outputs": [
    {
     "data": {
      "text/plain": [
       "{'00s': 15,\n",
       " '10s': 10,\n",
       " '70s': 11,\n",
       " '80s': 27,\n",
       " '90s': 15,\n",
       " 'acoustic': 35,\n",
       " 'adult': 19,\n",
       " 'age': 10,\n",
       " 'alternative': 230,\n",
       " 'ambient': 34,\n",
       " 'american': 175,\n",
       " 'américain': 31,\n",
       " 'aor': 19,\n",
       " 'art': 38,\n",
       " 'artist': 16,\n",
       " 'australian': 10,\n",
       " 'band': 21,\n",
       " 'baroque': 11,\n",
       " 'bass': 13,\n",
       " 'black': 20,\n",
       " 'blues': 92,\n",
       " 'britannique': 32,\n",
       " 'british': 155,\n",
       " 'california': 12,\n",
       " 'canadian': 23,\n",
       " 'celtic': 10,\n",
       " 'chart': 63,\n",
       " 'christian': 10,\n",
       " 'christmas': 12,\n",
       " 'classic': 163,\n",
       " 'classical': 30,\n",
       " 'coast': 18,\n",
       " 'composer': 41,\n",
       " 'contemporary': 56,\n",
       " 'country': 50,\n",
       " 'dance': 188,\n",
       " 'dark': 10,\n",
       " 'death': 70,\n",
       " 'disco': 18,\n",
       " 'doom': 12,\n",
       " 'downtempo': 19,\n",
       " 'dream': 12,\n",
       " 'drum': 12,\n",
       " 'dutch': 10,\n",
       " 'east': 10,\n",
       " 'easy': 10,\n",
       " 'electro': 20,\n",
       " 'electronic': 111,\n",
       " 'electronica': 82,\n",
       " 'electropop': 37,\n",
       " 'emo': 19,\n",
       " 'england': 26,\n",
       " 'english': 105,\n",
       " 'euro': 13,\n",
       " 'european': 41,\n",
       " 'experimental': 37,\n",
       " 'female': 17,\n",
       " 'film': 15,\n",
       " 'folk': 128,\n",
       " 'french': 21,\n",
       " 'funk': 26,\n",
       " 'garage': 18,\n",
       " 'german': 52,\n",
       " 'glam': 22,\n",
       " 'gothic': 34,\n",
       " 'grunge': 29,\n",
       " 'hall': 37,\n",
       " 'hard': 68,\n",
       " 'hardcore': 54,\n",
       " 'heavy': 37,\n",
       " 'hip': 170,\n",
       " 'hiphop': 11,\n",
       " 'hop': 187,\n",
       " 'house': 41,\n",
       " 'indie': 329,\n",
       " 'industrial': 32,\n",
       " 'instrumental': 13,\n",
       " 'irish': 10,\n",
       " 'jazz': 73,\n",
       " 'latin': 13,\n",
       " 'listening': 10,\n",
       " 'live': 15,\n",
       " 'melodic': 18,\n",
       " 'metal': 418,\n",
       " 'metalcore': 12,\n",
       " 'music': 26,\n",
       " 'musicals': 10,\n",
       " 'neo': 15,\n",
       " 'new': 71,\n",
       " 'norwegian': 15,\n",
       " 'nu': 17,\n",
       " 'opera': 11,\n",
       " 'piano': 17,\n",
       " 'pop': 808,\n",
       " 'post': 95,\n",
       " 'power': 46,\n",
       " 'producer': 12,\n",
       " 'progressive': 66,\n",
       " 'psychedelic': 41,\n",
       " 'punk': 182,\n",
       " 'r&b': 37,\n",
       " 'rap': 53,\n",
       " 'reggae': 31,\n",
       " 'revival': 13,\n",
       " 'rhythm': 16,\n",
       " 'rnb': 58,\n",
       " 'rock': 1430,\n",
       " 'roll': 19,\n",
       " 'score': 12,\n",
       " 'seen': 10,\n",
       " 'singer': 41,\n",
       " 'ska': 16,\n",
       " 'soft': 23,\n",
       " 'songwriter': 35,\n",
       " 'sophisti': 11,\n",
       " 'soul': 90,\n",
       " 'soundtrack': 21,\n",
       " 'soundtracks': 11,\n",
       " 'southern': 13,\n",
       " 'speed': 11,\n",
       " 'states': 20,\n",
       " 'swedish': 19,\n",
       " 'symphonic': 26,\n",
       " 'synth': 13,\n",
       " 'synthpop': 39,\n",
       " 'techno': 14,\n",
       " 'thrash': 40,\n",
       " 'trance': 33,\n",
       " 'trip': 23,\n",
       " 'uk': 137,\n",
       " 'united': 29,\n",
       " 'us': 10,\n",
       " 'usa': 70,\n",
       " 'vocal': 16,\n",
       " 'vocalists': 14,\n",
       " 'wave': 43}"
      ]
     },
     "execution_count": 49,
     "metadata": {},
     "output_type": "execute_result"
    }
   ],
   "source": [
    "len(most_popular)"
   ]
  },
  {
   "cell_type": "code",
   "execution_count": 44,
   "metadata": {
    "collapsed": false
   },
   "outputs": [],
   "source": [
    "del most_popular['the']\n",
    "del most_popular['this']\n",
    "del most_popular['of']\n",
    "del most_popular['by']\n",
    "del most_popular['and']\n",
    "del most_popular['&']"
   ]
  },
  {
   "cell_type": "code",
   "execution_count": null,
   "metadata": {
    "collapsed": true
   },
   "outputs": [],
   "source": []
  },
  {
   "cell_type": "code",
   "execution_count": null,
   "metadata": {
    "collapsed": true
   },
   "outputs": [],
   "source": [
    "# Jenn's old code\n",
    "# function for getting the mode tag for an artist (alphabetical order)\n",
    "def mode_tag(artist_id):\n",
    "    result = musicbrainzngs.get_artist_by_id(artist_id,includes=['tags'])\n",
    "    tags = result['artist']['tag-list']\n",
    "    mode_tag = None\n",
    "    mode = None\n",
    "    for tag_dict in tags:\n",
    "        if tag_dict['count'] > mode:\n",
    "            mode = tag_dict['count']\n",
    "            mode_tag = tag_dict['name']\n",
    "    return mode_tag\n",
    "\n",
    "# mode_tag('a74b1b7f-71a5-4011-9441-d0b5e4122711')\n",
    "# read in artist information\n",
    "artists = pd.read_csv('../musicrec-data/artists.csv', sep=',')\n",
    "artist_ids = artists['artist'].values\n",
    "\n",
    "# build artist_genre_dict\n",
    "artist_genre_dict = {}\n",
    "for artist_id in artist_ids:\n",
    "    print artist_id\n",
    "    # update artist_genre dict\n",
    "    try: \n",
    "        genre = mode_tag(artist_id)\n",
    "        artist_genre_dict[artist_id] = genre\n",
    "    except (KeyError, musicbrainzngs.ResponseError):\n",
    "        artist_genre_dict[artist_id] = None\n",
    "        \n",
    "user_genre_dict = {}\n",
    "# train_data is a dict user: (dict artist: plays)\n",
    "for user, artist_info in train_data.items():\n",
    "    genre_dict = {}\n",
    "    for artist, plays in artist_info.items():\n",
    "        genre = artist_genre_dict[artist]\n",
    "        # only proceed if genre is not None\n",
    "        if genre:\n",
    "            # if the user hasn't already listened to the genre\n",
    "            if genre not in genre_dict:\n",
    "                genre_dict[genre] = (plays, 1)\n",
    "            # otherwise, add number of plays to current total\n",
    "            else:\n",
    "                (num_genre_plays, num_genre_artists) = genre_dict[genre]\n",
    "                genre_dict[genre] = (num_genre_plays + plays, num_genre_artists + 1)\n",
    "    user_genre_dict[user] = genre_dict\n",
    "    \n",
    "for k,v in artist_genre_dict.items():\n",
    "    print(k)\n",
    "    print(v)\n",
    "    break\n",
    "print(len(artist_genre_dict))\n",
    "for k,v in user_genre_dict.items():\n",
    "    print(k)\n",
    "    print(v)\n",
    "    break\n",
    "print(len(user_genre_dict))\n",
    "\n",
    "# SAVE AS CSV\n",
    "with open('artist_genre_dict.csv', 'wb') as csv_file:\n",
    "    writer = csv.writer(csv_file)\n",
    "    for key, value in artist_genre_dict.items():\n",
    "        if value:\n",
    "            writer.writerow([key, value.encode('ascii', 'ignore').decode('ascii')])\n",
    "        else:\n",
    "            writer.writerow([key, value])\n",
    "with open('user_genre_dict.csv', 'wb') as csv_file:\n",
    "    writer = csv.writer(csv_file)\n",
    "    for key, value in user_genre_dict.items():\n",
    "        writer.writerow([key, value])"
   ]
  }
 ],
 "metadata": {
  "anaconda-cloud": {},
  "kernelspec": {
   "display_name": "Python [Root]",
   "language": "python",
   "name": "Python [Root]"
  },
  "language_info": {
   "codemirror_mode": {
    "name": "ipython",
    "version": 3
   },
   "file_extension": ".py",
   "mimetype": "text/x-python",
   "name": "python",
   "nbconvert_exporter": "python",
   "pygments_lexer": "ipython3",
   "version": "3.5.2"
  }
 },
 "nbformat": 4,
 "nbformat_minor": 2
}
