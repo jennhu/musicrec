{
 "cells": [
  {
   "cell_type": "code",
   "execution_count": 10,
   "metadata": {
    "collapsed": true
   },
   "outputs": [],
   "source": [
    "# we'll copy and paste their code here in notebook form\n",
    "\n",
    "# Feature extraction\n",
    "import musicbrainzngs\n",
    "\n",
    "# Data processing\n",
    "# import pandas as pd\n",
    "import numpy as np\n",
    "# import matplotlib.pyplot as plt\n",
    "# import sklearn.preprocessing as Pre\n",
    "\n",
    "# Models\n",
    "# from sklearn.linear_model import LinearRegression\n",
    "# from sklearn.ensemble import RandomForestRegressor\n",
    "# from sklearn.ensemble import BaggingRegressor\n",
    "# from sklearn.linear_model import Ridge\n",
    "# from sklearn.linear_model import Lasso\n",
    "\n",
    "# PCA and k-fold validation\n",
    "# from sklearn.decomposition import PCA\n",
    "from sklearn.model_selection import KFold"
   ]
  },
  {
   "cell_type": "markdown",
   "metadata": {},
   "source": [
    "## Playing around with musicbrainzngs"
   ]
  },
  {
   "cell_type": "code",
   "execution_count": 11,
   "metadata": {
    "collapsed": false,
    "scrolled": true
   },
   "outputs": [
    {
     "name": "stdout",
     "output_type": "stream",
     "text": [
      "name:\t\tThe xx\n",
      "sort name:\txx, The\n"
     ]
    }
   ],
   "source": [
    "# must set user agent before any requests are made - not sure which arguments to use\n",
    "# http://python-musicbrainzngs.readthedocs.io/en/v0.6/api/#musicbrainzngs.set_useragent\n",
    "musicbrainzngs.set_useragent(1,1)\n",
    "\n",
    "# look up dictionary of information about artist with artist_id\n",
    "artist_id = \"c5c2ea1c-4bde-4f4d-bd0b-47b200bf99d6\"\n",
    "result = musicbrainzngs.get_artist_by_id(artist_id)\n",
    "\n",
    "artist = result[\"artist\"]\n",
    "\n",
    "# prints the name associated with the artist_id\n",
    "print(\"name:\\t\\t%s\" % artist[\"name\"])\n",
    "print(\"sort name:\\t%s\" % artist[\"sort-name\"])"
   ]
  },
  {
   "cell_type": "markdown",
   "metadata": {},
   "source": [
    "## Data Processing"
   ]
  },
  {
   "cell_type": "markdown",
   "metadata": {},
   "source": [
    "## Feature Extraction"
   ]
  },
  {
   "cell_type": "markdown",
   "metadata": {},
   "source": [
    "## Training"
   ]
  },
  {
   "cell_type": "code",
   "execution_count": 12,
   "metadata": {
    "collapsed": true
   },
   "outputs": [],
   "source": [
    "# Function for k-fold cross validation using MAE (mean absolute error)\n",
    "def kfold(k, model, data):\n",
    "    kf = KFold(n_splits=k)\n",
    "    maes = []\n",
    "    for train_fold_index, validate_fold_index in kf.split(data):\n",
    "        train_fold = data[train_fold_index]\n",
    "        test_fold = data[validate_fold_index]\n",
    "        X_train_fold = train_fold[:, :-1]\n",
    "        Y_train_fold = train_fold[:, -1]\n",
    "        X_test_fold = test_fold[:, :-1]\n",
    "        Y_test_fold = test_fold[:, -1]\n",
    "        model.fit(X_train_fold, Y_train_fold)\n",
    "        Y_hat = model.predict(X_test_fold)\n",
    "        mae = np.mean([abs(Y_hat[i] - Y_test_fold[i]) for i in range(len(Y_test_fold))])\n",
    "        maes.append(mae)\n",
    "        print \"MAEs: \", maes\n",
    "    return np.mean(maes)"
   ]
  },
  {
   "cell_type": "markdown",
   "metadata": {},
   "source": [
    "## Testing"
   ]
  },
  {
   "cell_type": "code",
   "execution_count": null,
   "metadata": {
    "collapsed": true
   },
   "outputs": [],
   "source": []
  }
 ],
 "metadata": {
  "kernelspec": {
   "display_name": "Python 2",
   "language": "python",
   "name": "python2"
  },
  "language_info": {
   "codemirror_mode": {
    "name": "ipython",
    "version": 2
   },
   "file_extension": ".py",
   "mimetype": "text/x-python",
   "name": "python",
   "nbconvert_exporter": "python",
   "pygments_lexer": "ipython2",
   "version": "2.7.13"
  }
 },
 "nbformat": 4,
 "nbformat_minor": 2
}
